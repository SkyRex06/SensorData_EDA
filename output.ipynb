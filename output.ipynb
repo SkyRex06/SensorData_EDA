{
 "cells": [
  {
   "cell_type": "code",
   "execution_count": 1,
   "id": "00454e78-2f73-44bc-ba4d-10a1fa36140a",
   "metadata": {},
   "outputs": [],
   "source": [
    "import pandas as pd\n",
    "import numpy as np\n",
    "import matplotlib.pyplot as plt\n",
    "import seaborn as sns\n",
    "%matplotlib inline"
   ]
  },
  {
   "cell_type": "code",
   "execution_count": 2,
   "id": "64063e45-156c-4561-966b-51e35184f8bd",
   "metadata": {},
   "outputs": [],
   "source": [
    "import joblib\n",
    "rf = joblib.load(\"randomforest_toilify.pkl\")\n",
    "\n"
   ]
  },
  {
   "cell_type": "code",
   "execution_count": 6,
   "id": "0e85da7c-da76-4a6a-9e20-222f444a6ac2",
   "metadata": {},
   "outputs": [],
   "source": [
    "label_mapping = {\n",
    "    0: \"flush_event\",\n",
    "    1: \"normal\",\n",
    "    2: \"pee_detected\",\n",
    "    3: \"poop_detected\",\n",
    "    4: \"overuse\"\n",
    "}\n"
   ]
  },
  {
   "cell_type": "code",
   "execution_count": 7,
   "id": "6ed230b6-90d9-4226-b2d4-fe5ab206b7c9",
   "metadata": {},
   "outputs": [],
   "source": [
    "def predict_event(ammonia, h2s, water, hour, weekday):\n",
    "    data = [[ammonia, h2s, water, hour, weekday]]\n",
    "    pred = rf.predict(data)[0]\n",
    "    return label_mapping[pred]\n"
   ]
  },
  {
   "cell_type": "code",
   "execution_count": 8,
   "id": "4f69b905-dcd3-4ef2-ba16-f2ff5f6d7970",
   "metadata": {},
   "outputs": [
    {
     "name": "stdout",
     "output_type": "stream",
     "text": [
      "poop_detected\n",
      "overuse\n",
      "normal\n"
     ]
    },
    {
     "name": "stderr",
     "output_type": "stream",
     "text": [
      "C:\\Users\\shivam\\anaconda3\\Lib\\site-packages\\sklearn\\utils\\validation.py:2739: UserWarning: X does not have valid feature names, but RandomForestClassifier was fitted with feature names\n",
      "  warnings.warn(\n",
      "C:\\Users\\shivam\\anaconda3\\Lib\\site-packages\\sklearn\\utils\\validation.py:2739: UserWarning: X does not have valid feature names, but RandomForestClassifier was fitted with feature names\n",
      "  warnings.warn(\n",
      "C:\\Users\\shivam\\anaconda3\\Lib\\site-packages\\sklearn\\utils\\validation.py:2739: UserWarning: X does not have valid feature names, but RandomForestClassifier was fitted with feature names\n",
      "  warnings.warn(\n"
     ]
    }
   ],
   "source": [
    "print(predict_event(90, 5, 28, 7, 2))   \n",
    "print(predict_event(10, 80, 22, 18, 5)) \n",
    "print(predict_event(5, 2, 39, 9, 1))    \n",
    "\n"
   ]
  },
  {
   "cell_type": "code",
   "execution_count": null,
   "id": "c716a6bd-1579-4e32-9b65-61916d4efaf3",
   "metadata": {},
   "outputs": [],
   "source": []
  }
 ],
 "metadata": {
  "kernelspec": {
   "display_name": "Python [conda env:base] *",
   "language": "python",
   "name": "conda-base-py"
  },
  "language_info": {
   "codemirror_mode": {
    "name": "ipython",
    "version": 3
   },
   "file_extension": ".py",
   "mimetype": "text/x-python",
   "name": "python",
   "nbconvert_exporter": "python",
   "pygments_lexer": "ipython3",
   "version": "3.13.5"
  }
 },
 "nbformat": 4,
 "nbformat_minor": 5
}
